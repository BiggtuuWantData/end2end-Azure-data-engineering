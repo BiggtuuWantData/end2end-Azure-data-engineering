{
 "cells": [
  {
   "cell_type": "code",
   "execution_count": 0,
   "metadata": {
    "application/vnd.databricks.v1+cell": {
     "cellMetadata": {
      "byteLimit": 2048000,
      "rowLimit": 10000
     },
     "inputWidgets": {},
     "nuid": "b22ab13c-ed5a-4af1-ab9c-0e84777118df",
     "showTitle": false,
     "tableResultSettingsMap": {},
     "title": ""
    }
   },
   "outputs": [
    {
     "output_type": "stream",
     "name": "stdout",
     "output_type": "stream",
     "text": [
      "/mnt/silver has been unmounted.\n/mnt/gold has been unmounted.\n"
     ]
    },
    {
     "output_type": "execute_result",
     "data": {
      "text/plain": [
       "True"
      ]
     },
     "execution_count": 1,
     "metadata": {},
     "output_type": "execute_result"
    }
   ],
   "source": [
    "configs = {\n",
    " \"fs.azure.account.auth.type\": \"CustomAccessToken\",\n",
    " \"fs.azure.account.custom.token.provider.class\": spark.conf.get(\"spark.databricks.passthrough.adls.gen2.tokenProviderClassName\")\n",
    "}\n",
    "\n",
    "# unmount โฟลเดอร์ที่เคย mount\n",
    "dbutils.fs.unmount(\"/mnt/bronze\")\n",
    "dbutils.fs.unmount(\"/mnt/silver\")\n",
    "dbutils.fs.unmount(\"/mnt/gold\")\n",
    "\n",
    "\n",
    "dbutils.fs.mount(\n",
    " source = f\"abfss://silver@de02datalake.dfs.core.windows.net/\",\n",
    " mount_point = \"/mnt/silver\",\n",
    " extra_configs = configs\n",
    ")\n",
    "\n",
    "dbutils.fs.mount(\n",
    " source = f\"abfss://silver@de02datalake.dfs.core.windows.net/\",\n",
    " mount_point = \"/mnt/silver\",\n",
    " extra_configs = configs\n",
    ")\n",
    "\n",
    "dbutils.fs.mount(\n",
    " source = f\"abfss://gold@de02datalake.dfs.core.windows.net/\",\n",
    " mount_point = \"/mnt/gold\",\n",
    " extra_configs = configs\n",
    ")"
   ]
  }
 ],
 "metadata": {
  "application/vnd.databricks.v1+notebook": {
   "computePreferences": null,
   "dashboards": [],
   "environmentMetadata": {
    "base_environment": "",
    "environment_version": "2"
   },
   "inputWidgetPreferences": null,
   "language": "python",
   "notebookMetadata": {
    "pythonIndentUnit": 4
   },
   "notebookName": "storagemount",
   "widgets": {}
  },
  "language_info": {
   "name": "python"
  }
 },
 "nbformat": 4,
 "nbformat_minor": 0
}